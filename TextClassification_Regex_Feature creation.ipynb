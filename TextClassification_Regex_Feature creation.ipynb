{
 "cells": [
  {
   "cell_type": "code",
   "execution_count": 1,
   "metadata": {},
   "outputs": [],
   "source": [
    "# Import the necessary libraries at first \n",
    "import pandas as pd \n",
    "import sklearn\n",
    "import numpy as np\n",
    "import re\n",
    "import pickle\n",
    "from sklearn.feature_extraction.text import CountVectorizer\n",
    "from sklearn.model_selection import train_test_split\n",
    "from numpy import array\n",
    "from scipy.sparse import coo_matrix\n",
    "from scipy.sparse import hstack\n",
    "from sklearn.naive_bayes import MultinomialNB\n",
    "from sklearn.preprocessing import LabelEncoder\n",
    "from sklearn.metrics import classification_report, confusion_matrix, accuracy_score"
   ]
  },
  {
   "cell_type": "code",
   "execution_count": 2,
   "metadata": {},
   "outputs": [
    {
     "data": {
      "text/html": [
       "<div>\n",
       "<style scoped>\n",
       "    .dataframe tbody tr th:only-of-type {\n",
       "        vertical-align: middle;\n",
       "    }\n",
       "\n",
       "    .dataframe tbody tr th {\n",
       "        vertical-align: top;\n",
       "    }\n",
       "\n",
       "    .dataframe thead th {\n",
       "        text-align: right;\n",
       "    }\n",
       "</style>\n",
       "<table border=\"1\" class=\"dataframe\">\n",
       "  <thead>\n",
       "    <tr style=\"text-align: right;\">\n",
       "      <th></th>\n",
       "      <th>Donor</th>\n",
       "      <th>Tag</th>\n",
       "      <th>num_tag</th>\n",
       "    </tr>\n",
       "  </thead>\n",
       "  <tbody>\n",
       "    <tr>\n",
       "      <th>525602</th>\n",
       "      <td>Vulcan Materials Company</td>\n",
       "      <td>b</td>\n",
       "      <td>1</td>\n",
       "    </tr>\n",
       "    <tr>\n",
       "      <th>525603</th>\n",
       "      <td>Weil, Gotshal &amp; Manges LLP</td>\n",
       "      <td>b</td>\n",
       "      <td>1</td>\n",
       "    </tr>\n",
       "    <tr>\n",
       "      <th>525604</th>\n",
       "      <td>Wespac Construction, Inc.</td>\n",
       "      <td>b</td>\n",
       "      <td>1</td>\n",
       "    </tr>\n",
       "    <tr>\n",
       "      <th>525605</th>\n",
       "      <td>Western Alliance Bank</td>\n",
       "      <td>b</td>\n",
       "      <td>1</td>\n",
       "    </tr>\n",
       "    <tr>\n",
       "      <th>525606</th>\n",
       "      <td>Westfield Capital Management</td>\n",
       "      <td>b</td>\n",
       "      <td>1</td>\n",
       "    </tr>\n",
       "    <tr>\n",
       "      <th>525607</th>\n",
       "      <td>Whitney Bank</td>\n",
       "      <td>b</td>\n",
       "      <td>1</td>\n",
       "    </tr>\n",
       "    <tr>\n",
       "      <th>525608</th>\n",
       "      <td>Winston &amp; Strawn</td>\n",
       "      <td>b</td>\n",
       "      <td>1</td>\n",
       "    </tr>\n",
       "    <tr>\n",
       "      <th>525609</th>\n",
       "      <td>Wintrust Financial Corporation</td>\n",
       "      <td>b</td>\n",
       "      <td>1</td>\n",
       "    </tr>\n",
       "    <tr>\n",
       "      <th>525610</th>\n",
       "      <td>World Bank Community Connections Fund</td>\n",
       "      <td>fd</td>\n",
       "      <td>3</td>\n",
       "    </tr>\n",
       "    <tr>\n",
       "      <th>525611</th>\n",
       "      <td>Zachry Corporation</td>\n",
       "      <td>b</td>\n",
       "      <td>1</td>\n",
       "    </tr>\n",
       "  </tbody>\n",
       "</table>\n",
       "</div>"
      ],
      "text/plain": [
       "                                        Donor Tag  num_tag\n",
       "525602               Vulcan Materials Company   b        1\n",
       "525603             Weil, Gotshal & Manges LLP   b        1\n",
       "525604              Wespac Construction, Inc.   b        1\n",
       "525605                  Western Alliance Bank   b        1\n",
       "525606           Westfield Capital Management   b        1\n",
       "525607                           Whitney Bank   b        1\n",
       "525608                       Winston & Strawn   b        1\n",
       "525609         Wintrust Financial Corporation   b        1\n",
       "525610  World Bank Community Connections Fund  fd        3\n",
       "525611                     Zachry Corporation   b        1"
      ]
     },
     "execution_count": 2,
     "metadata": {},
     "output_type": "execute_result"
    }
   ],
   "source": [
    "#Load the csv file\n",
    "# encoding= \"unicode_escape\" used to escape Non-ASII characters from data file, otherwise it will through error   \n",
    "\n",
    "df =   pd.read_csv(\"C:/Users/umesh.kumar/udemy/parsely_7.csv\",encoding= \"unicode_escape\")\n",
    "df.tail(10)"
   ]
  },
  {
   "cell_type": "code",
   "execution_count": 3,
   "metadata": {},
   "outputs": [
    {
     "data": {
      "text/plain": [
       "(525612, 3)"
      ]
     },
     "execution_count": 3,
     "metadata": {},
     "output_type": "execute_result"
    }
   ],
   "source": [
    "#Check the shape of dataset\n",
    "df.shape"
   ]
  },
  {
   "cell_type": "code",
   "execution_count": 4,
   "metadata": {},
   "outputs": [],
   "source": [
    "# Add New blank column in your dataset\n",
    "\n",
    "df[\"clean\"]= \"\""
   ]
  },
  {
   "cell_type": "code",
   "execution_count": 5,
   "metadata": {},
   "outputs": [
    {
     "name": "stdout",
     "output_type": "stream",
     "text": [
      "975 ms ± 11 ms per loop (mean ± std. dev. of 7 runs, 1 loop each)\n"
     ]
    }
   ],
   "source": [
    "%%timeit\n",
    "\n",
    "#Decode the Non-ASII characters from dataset\n",
    "#Remove the unwanted special characters from dataset\n",
    "\n",
    "def is_ascii_changed(text):\n",
    "    text_1 =text.encode(\"ascii\", \"ignore\")\n",
    "    text_2 =text_1.decode()\n",
    "    text_2 = \" \".join(re.findall(\"[A-z*&.]+\", text))\n",
    "    return text_2\n",
    "\n",
    "df[\"clean\"]= df[\"Donor\"].apply(lambda x :is_ascii_changed(x))"
   ]
  },
  {
   "cell_type": "code",
   "execution_count": 6,
   "metadata": {},
   "outputs": [],
   "source": [
    "# Add new cloumns for characters length & also count the space in each word\n",
    "df[\"string_len\"]= df[\"Donor\"].str.len()\n",
    "df[\"string_space\"]= df[\"Donor\"].str.count(' ')"
   ]
  },
  {
   "cell_type": "code",
   "execution_count": 7,
   "metadata": {},
   "outputs": [
    {
     "data": {
      "text/html": [
       "<div>\n",
       "<style scoped>\n",
       "    .dataframe tbody tr th:only-of-type {\n",
       "        vertical-align: middle;\n",
       "    }\n",
       "\n",
       "    .dataframe tbody tr th {\n",
       "        vertical-align: top;\n",
       "    }\n",
       "\n",
       "    .dataframe thead th {\n",
       "        text-align: right;\n",
       "    }\n",
       "</style>\n",
       "<table border=\"1\" class=\"dataframe\">\n",
       "  <thead>\n",
       "    <tr style=\"text-align: right;\">\n",
       "      <th></th>\n",
       "      <th>Donor</th>\n",
       "      <th>Tag</th>\n",
       "      <th>num_tag</th>\n",
       "      <th>clean</th>\n",
       "      <th>string_len</th>\n",
       "      <th>string_space</th>\n",
       "    </tr>\n",
       "  </thead>\n",
       "  <tbody>\n",
       "    <tr>\n",
       "      <th>0</th>\n",
       "      <td>The 355 Group Inc.</td>\n",
       "      <td>b</td>\n",
       "      <td>1</td>\n",
       "      <td>The Group Inc.</td>\n",
       "      <td>18</td>\n",
       "      <td>3</td>\n",
       "    </tr>\n",
       "    <tr>\n",
       "      <th>1</th>\n",
       "      <td>A.B. Hatchery &amp; Garden Center</td>\n",
       "      <td>o</td>\n",
       "      <td>6</td>\n",
       "      <td>A.B. Hatchery &amp; Garden Center</td>\n",
       "      <td>29</td>\n",
       "      <td>4</td>\n",
       "    </tr>\n",
       "    <tr>\n",
       "      <th>2</th>\n",
       "      <td>Mr. Sigurd D. Aanonsen</td>\n",
       "      <td>p</td>\n",
       "      <td>0</td>\n",
       "      <td>Mr. Sigurd D. Aanonsen</td>\n",
       "      <td>22</td>\n",
       "      <td>3</td>\n",
       "    </tr>\n",
       "    <tr>\n",
       "      <th>3</th>\n",
       "      <td>Mrs. Roma W. Abbott '46</td>\n",
       "      <td>p</td>\n",
       "      <td>0</td>\n",
       "      <td>Mrs. Roma W. Abbott</td>\n",
       "      <td>23</td>\n",
       "      <td>4</td>\n",
       "    </tr>\n",
       "    <tr>\n",
       "      <th>4</th>\n",
       "      <td>Mr. Munib S. Abdulrehman '02</td>\n",
       "      <td>p</td>\n",
       "      <td>0</td>\n",
       "      <td>Mr. Munib S. Abdulrehman</td>\n",
       "      <td>28</td>\n",
       "      <td>4</td>\n",
       "    </tr>\n",
       "    <tr>\n",
       "      <th>5</th>\n",
       "      <td>Mr. A. Beecher Abeles</td>\n",
       "      <td>p</td>\n",
       "      <td>0</td>\n",
       "      <td>Mr. A. Beecher Abeles</td>\n",
       "      <td>21</td>\n",
       "      <td>3</td>\n",
       "    </tr>\n",
       "    <tr>\n",
       "      <th>6</th>\n",
       "      <td>Mrs. Robin L. Abeles '87</td>\n",
       "      <td>p</td>\n",
       "      <td>0</td>\n",
       "      <td>Mrs. Robin L. Abeles</td>\n",
       "      <td>24</td>\n",
       "      <td>4</td>\n",
       "    </tr>\n",
       "  </tbody>\n",
       "</table>\n",
       "</div>"
      ],
      "text/plain": [
       "                           Donor Tag  num_tag                          clean  \\\n",
       "0             The 355 Group Inc.   b        1                 The Group Inc.   \n",
       "1  A.B. Hatchery & Garden Center   o        6  A.B. Hatchery & Garden Center   \n",
       "2         Mr. Sigurd D. Aanonsen   p        0         Mr. Sigurd D. Aanonsen   \n",
       "3        Mrs. Roma W. Abbott '46   p        0            Mrs. Roma W. Abbott   \n",
       "4   Mr. Munib S. Abdulrehman '02   p        0       Mr. Munib S. Abdulrehman   \n",
       "5          Mr. A. Beecher Abeles   p        0          Mr. A. Beecher Abeles   \n",
       "6       Mrs. Robin L. Abeles '87   p        0           Mrs. Robin L. Abeles   \n",
       "\n",
       "   string_len  string_space  \n",
       "0          18             3  \n",
       "1          29             4  \n",
       "2          22             3  \n",
       "3          23             4  \n",
       "4          28             4  \n",
       "5          21             3  \n",
       "6          24             4  "
      ]
     },
     "execution_count": 7,
     "metadata": {},
     "output_type": "execute_result"
    }
   ],
   "source": [
    "#View the dataset\n",
    "df.head(7)"
   ]
  },
  {
   "cell_type": "code",
   "execution_count": 8,
   "metadata": {},
   "outputs": [],
   "source": [
    "# Initialize and fit CountVectorizer with given Names\n",
    "vectorizer = CountVectorizer().fit(df[\"clean\"])\n",
    "\n",
    "# use the vectorizer to transform the names into word count vectors (Sparse)\n",
    "word_mat = vectorizer.transform(df[\"clean\"])"
   ]
  },
  {
   "cell_type": "code",
   "execution_count": 9,
   "metadata": {},
   "outputs": [
    {
     "data": {
      "text/plain": [
       "(525612, 138236)"
      ]
     },
     "execution_count": 9,
     "metadata": {},
     "output_type": "execute_result"
    }
   ],
   "source": [
    "#Check the shape of dataset after vectorization\n",
    "word_mat.shape"
   ]
  },
  {
   "cell_type": "code",
   "execution_count": 10,
   "metadata": {},
   "outputs": [],
   "source": [
    "#Add created features in vectorization dataset, using scipy library to convert into sparse matrix\n",
    "\n",
    "word_mat = hstack((word_mat,np.array(df[\"string_len\"])[:,None]))\n",
    "word_mat = hstack((word_mat,np.array(df[\"string_space\"])[:,None]))"
   ]
  },
  {
   "cell_type": "code",
   "execution_count": 11,
   "metadata": {},
   "outputs": [
    {
     "data": {
      "text/plain": [
       "(525612, 138238)"
      ]
     },
     "execution_count": 11,
     "metadata": {},
     "output_type": "execute_result"
    }
   ],
   "source": [
    "#Check the shape again of dataset whether feature column added into dataset\n",
    "word_mat.shape"
   ]
  },
  {
   "cell_type": "code",
   "execution_count": 12,
   "metadata": {},
   "outputs": [
    {
     "data": {
      "text/plain": [
       "scipy.sparse.csr.csr_matrix"
      ]
     },
     "execution_count": 12,
     "metadata": {},
     "output_type": "execute_result"
    }
   ],
   "source": [
    "#convert matrix into csr_matrix\n",
    "\n",
    "word_mat= coo_matrix((word_mat)).tocsr()\n",
    "type(word_mat)"
   ]
  },
  {
   "cell_type": "code",
   "execution_count": 13,
   "metadata": {},
   "outputs": [],
   "source": [
    "# LabelEncoder can be re-used to encode and decode the labels\n",
    "encoder = LabelEncoder().fit(df[\"num_tag\"])\n",
    "\n",
    "# using the encoder to encode the entire dataset\n",
    "y = encoder.transform(df[\"num_tag\"])"
   ]
  },
  {
   "cell_type": "code",
   "execution_count": 14,
   "metadata": {},
   "outputs": [],
   "source": [
    "#Slipt dataset into train & test dataset for training & validating the model\n",
    "\n",
    "x_train, x_test, y_train, y_test = train_test_split(word_mat, y, test_size=0.3)"
   ]
  },
  {
   "cell_type": "code",
   "execution_count": 15,
   "metadata": {},
   "outputs": [
    {
     "name": "stdout",
     "output_type": "stream",
     "text": [
      "Wall time: 128 ms\n"
     ]
    },
    {
     "data": {
      "text/plain": [
       "MultinomialNB(alpha=1.0, class_prior=None, fit_prior=True)"
      ]
     },
     "execution_count": 15,
     "metadata": {},
     "output_type": "execute_result"
    }
   ],
   "source": [
    "%%time\n",
    "# instantiate the model as clf(classifier) and train it\n",
    "np.random.seed(20)\n",
    "clf = MultinomialNB()\n",
    "clf.fit(x_train, y_train)"
   ]
  },
  {
   "cell_type": "code",
   "execution_count": 16,
   "metadata": {},
   "outputs": [
    {
     "data": {
      "text/plain": [
       "0.9664582329215393"
      ]
     },
     "execution_count": 16,
     "metadata": {},
     "output_type": "execute_result"
    }
   ],
   "source": [
    "#check the score of new created model\n",
    "clf.score(x_test, y_test)"
   ]
  },
  {
   "cell_type": "code",
   "execution_count": 17,
   "metadata": {},
   "outputs": [
    {
     "data": {
      "text/plain": [
       "array([0, 0, 0, ..., 0, 0, 0], dtype=int64)"
      ]
     },
     "execution_count": 17,
     "metadata": {},
     "output_type": "execute_result"
    }
   ],
   "source": [
    "#Classify the test dataset, using predict function from sklearn\n",
    "y_clf_pred = clf.predict(x_test)\n",
    "\n",
    "y_clf_pred"
   ]
  },
  {
   "cell_type": "code",
   "execution_count": 18,
   "metadata": {},
   "outputs": [
    {
     "name": "stdout",
     "output_type": "stream",
     "text": [
      "              precision    recall  f1-score   support\n",
      "\n",
      "           0       0.97      1.00      0.98    152230\n",
      "           1       0.98      0.08      0.15      1935\n",
      "           2       0.00      0.00      0.00        79\n",
      "           3       0.00      0.00      0.00       249\n",
      "           4       1.00      0.00      0.01      1154\n",
      "           5       0.00      0.00      0.00        19\n",
      "           6       0.75      0.00      0.00      1628\n",
      "           7       0.00      0.00      0.00       213\n",
      "           8       0.00      0.00      0.00       177\n",
      "\n",
      "    accuracy                           0.97    157684\n",
      "   macro avg       0.41      0.12      0.13    157684\n",
      "weighted avg       0.96      0.97      0.95    157684\n",
      "\n"
     ]
    },
    {
     "name": "stderr",
     "output_type": "stream",
     "text": [
      "C:\\Users\\umesh.kumar\\Anaconda3\\lib\\site-packages\\sklearn\\metrics\\_classification.py:1272: UndefinedMetricWarning: Precision and F-score are ill-defined and being set to 0.0 in labels with no predicted samples. Use `zero_division` parameter to control this behavior.\n",
      "  _warn_prf(average, modifier, msg_start, len(result))\n"
     ]
    }
   ],
   "source": [
    "#Print the classification result\n",
    "print(classification_report(y_test, y_clf_pred))"
   ]
  },
  {
   "cell_type": "code",
   "execution_count": 21,
   "metadata": {},
   "outputs": [
    {
     "name": "stdout",
     "output_type": "stream",
     "text": [
      "[[152230      0      0      0      0      0      0      0      0]\n",
      " [  1777    158      0      0      0      0      0      0      0]\n",
      " [    79      0      0      0      0      0      0      0      0]\n",
      " [   246      2      0      0      0      0      1      0      0]\n",
      " [  1150      0      0      0      4      0      0      0      0]\n",
      " [    19      0      0      0      0      0      0      0      0]\n",
      " [  1624      1      0      0      0      0      3      0      0]\n",
      " [   213      0      0      0      0      0      0      0      0]\n",
      " [   177      0      0      0      0      0      0      0      0]]\n"
     ]
    }
   ],
   "source": [
    "#Print the confusion_matrix results\n",
    "print(confusion_matrix(y_test, y_clf_pred))"
   ]
  },
  {
   "cell_type": "code",
   "execution_count": 22,
   "metadata": {},
   "outputs": [],
   "source": [
    "#Save the classification model into a pickle file\n",
    "pickle.dump(clf, open(\"TextClassification_Regex_Feature creation.pickle\",\"wb\"))"
   ]
  },
  {
   "cell_type": "code",
   "execution_count": 23,
   "metadata": {},
   "outputs": [],
   "source": [
    "#Load the classification model to future use\n",
    "load_model_rf = pickle.load(open(\"TextClassification_Regex_Feature creation.pickle\",\"rb\"))"
   ]
  },
  {
   "cell_type": "code",
   "execution_count": null,
   "metadata": {},
   "outputs": [],
   "source": []
  },
  {
   "cell_type": "code",
   "execution_count": null,
   "metadata": {},
   "outputs": [],
   "source": []
  }
 ],
 "metadata": {
  "kernelspec": {
   "display_name": "Python 3",
   "language": "python",
   "name": "python3"
  },
  "language_info": {
   "codemirror_mode": {
    "name": "ipython",
    "version": 3
   },
   "file_extension": ".py",
   "mimetype": "text/x-python",
   "name": "python",
   "nbconvert_exporter": "python",
   "pygments_lexer": "ipython3",
   "version": "3.8.8"
  }
 },
 "nbformat": 4,
 "nbformat_minor": 2
}
